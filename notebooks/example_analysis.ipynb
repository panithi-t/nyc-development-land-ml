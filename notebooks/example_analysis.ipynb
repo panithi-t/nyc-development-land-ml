{
 "cells": [
  {
   "cell_type": "markdown",
   "metadata": {},
   "source": [
    "# NYC Development Land Value Analysis\n",
    "\n",
    "Example analysis using the NYC Development Land ML model."
   ]
  },
  {
   "cell_type": "code",
   "execution_count": null,
   "metadata": {},
   "source": [
    "import sys\n",
    "sys.path.append('..')\n",
    "\n",
    "from src.predictor import OptimizedRealEstatePredictor\n",
    "import pandas as pd\n",
    "import numpy as np"
   ]
  },
  {
   "cell_type": "markdown",
   "metadata": {},
   "source": [
    "## Initialize Model"
   ]
  },
  {
   "cell_type": "code",
   "execution_count": null,
   "metadata": {},
   "source": [
    "predictor = OptimizedRealEstatePredictor()\n",
    "predictor.train_model()"
   ]
  },
  {
   "cell_type": "markdown",
   "metadata": {},
   "source": [
    "## Example: SoHo Development Site Analysis"
   ]
  },
  {
   "cell_type": "code",
   "execution_count": null,
   "metadata": {},
   "source": [
    "soho_site = pd.DataFrame({\n",
    "    'BOROUGH': ['MANHATTAN'],\n",
    "    'NEIGHBORHOOD': ['SOHO'],\n",
    "    'LOT_AREA': [4026],\n",
    "    'LOT_FRONTAGE': [51.75],\n",
    "    'LOT_TYPE': ['INTERIOR'],\n",
    "    'ZONING_1': ['M1-5/R10'],\n",
    "    'ZONING_2': ['NONE'],\n",
    "    'OVERLAY_1': ['NONE'],\n",
    "    'OVERLAY_2': ['NONE'],\n",
    "    'SPECIAL_DISTRICT': ['SNX'],\n",
    "    'MIH/VIH': ['MIH'],\n",
    "    'BASE_FAR': [12.0]\n",
    "})\n",
    "\n",
    "prediction = predictor.make_prediction(soho_site)\n",
    "\n",
    "print(f\"Predicted PPZFA: ${prediction['ppzfa']:,.2f}\")\n",
    "print(f\"Total Value: ${prediction['total_value']:,.2f}\")\n",
    "print(f\"Confidence Level: {prediction['confidence_level']}\")\n",
    "\n",
    "if prediction['warnings']:\n",
    "    print(\"\\nWarnings:\")\n",
    "    for warning in prediction['warnings']:\n",
    "        print(f\"- {warning}\")"
   ]
  },
  {
   "cell_type": "markdown",
   "metadata": {},
   "source": [
    "## Feature Importance Analysis"
   ]
  },
  {
   "cell_type": "code",
   "execution_count": null,
   "metadata": {},
   "source": [
    "print(\"Top 10 Value Drivers:\")\n",
    "for feature, importance in predictor.feature_importance[:10]:\n",
    "    print(f\"{feature}: {importance:.3f}\")"
   ]
  }
 ],
 "metadata": {
  "kernelspec": {
   "display_name": "Python 3",
   "language": "python",
   "name": "python3"
  }
 },
 "nbformat": 4,
 "nbformat_minor": 4
}
